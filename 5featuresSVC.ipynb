{
 "cells": [
  {
   "cell_type": "code",
   "execution_count": 1,
   "id": "62c426e3-3bf0-4191-81c3-fd0227fcbd97",
   "metadata": {
    "tags": []
   },
   "outputs": [],
   "source": [
    "import pandas as pd\n",
    "\n",
    "# Specify the path to your uploaded CSV file\n",
    "csv_path = 'FullOutput.csv'\n",
    "\n",
    "# Read the CSV file using pandas\n",
    "df = pd.read_csv(csv_path)\n",
    "\n",
    "# Now you can work with the dataframe 'df'\n",
    "# ...rest of your code..."
   ]
  },
  {
   "cell_type": "code",
   "execution_count": 2,
   "id": "2608e13c-c8f5-4702-86e7-fadc491db07f",
   "metadata": {
    "tags": []
   },
   "outputs": [
    {
     "data": {
      "text/html": [
       "<div>\n",
       "<style scoped>\n",
       "    .dataframe tbody tr th:only-of-type {\n",
       "        vertical-align: middle;\n",
       "    }\n",
       "\n",
       "    .dataframe tbody tr th {\n",
       "        vertical-align: top;\n",
       "    }\n",
       "\n",
       "    .dataframe thead th {\n",
       "        text-align: right;\n",
       "    }\n",
       "</style>\n",
       "<table border=\"1\" class=\"dataframe\">\n",
       "  <thead>\n",
       "    <tr style=\"text-align: right;\">\n",
       "      <th></th>\n",
       "      <th>TAGNAME</th>\n",
       "      <th>TIME</th>\n",
       "      <th>SUNANGLE</th>\n",
       "      <th>VALUE</th>\n",
       "      <th>Latitude</th>\n",
       "      <th>Longitude</th>\n",
       "      <th>Temp 2m</th>\n",
       "      <th>Dewpoint 2m</th>\n",
       "      <th>Pressure</th>\n",
       "      <th>Precipitation</th>\n",
       "      <th>GHI</th>\n",
       "      <th>DHI</th>\n",
       "      <th>BNI</th>\n",
       "      <th>Location</th>\n",
       "      <th>Date</th>\n",
       "      <th>Time</th>\n",
       "      <th>Date.1</th>\n",
       "      <th>hours</th>\n",
       "    </tr>\n",
       "  </thead>\n",
       "  <tbody>\n",
       "    <tr>\n",
       "      <th>0</th>\n",
       "      <td>Main Optic</td>\n",
       "      <td>2021-06-30 02:59:21</td>\n",
       "      <td>1.235129</td>\n",
       "      <td>0</td>\n",
       "      <td>60.741</td>\n",
       "      <td>-0.795</td>\n",
       "      <td>10.739375</td>\n",
       "      <td>7.730220</td>\n",
       "      <td>101943.76110</td>\n",
       "      <td>1.241418e-08</td>\n",
       "      <td>51.624280</td>\n",
       "      <td>51.624280</td>\n",
       "      <td>0.000000</td>\n",
       "      <td>Balta_Sound</td>\n",
       "      <td>2021-06-30 00:00:00</td>\n",
       "      <td>02:59:21</td>\n",
       "      <td>2023-06-30 00:00:00</td>\n",
       "      <td>2.989167</td>\n",
       "    </tr>\n",
       "    <tr>\n",
       "      <th>1</th>\n",
       "      <td>Main Optic</td>\n",
       "      <td>2021-06-30 22:02:12</td>\n",
       "      <td>-1.404698</td>\n",
       "      <td>1</td>\n",
       "      <td>60.741</td>\n",
       "      <td>-0.795</td>\n",
       "      <td>11.618693</td>\n",
       "      <td>9.279538</td>\n",
       "      <td>101979.90700</td>\n",
       "      <td>0.000000e+00</td>\n",
       "      <td>0.000000</td>\n",
       "      <td>0.000000</td>\n",
       "      <td>0.000000</td>\n",
       "      <td>Balta_Sound</td>\n",
       "      <td>2021-06-30 00:00:00</td>\n",
       "      <td>22:02:12</td>\n",
       "      <td>2023-06-30 00:00:00</td>\n",
       "      <td>22.036667</td>\n",
       "    </tr>\n",
       "    <tr>\n",
       "      <th>2</th>\n",
       "      <td>ML1 Status</td>\n",
       "      <td>2021-06-30 04:05:02</td>\n",
       "      <td>-1.652963</td>\n",
       "      <td>0</td>\n",
       "      <td>49.868</td>\n",
       "      <td>-6.435</td>\n",
       "      <td>14.996952</td>\n",
       "      <td>12.833996</td>\n",
       "      <td>101844.88250</td>\n",
       "      <td>0.000000e+00</td>\n",
       "      <td>11.123197</td>\n",
       "      <td>9.471215</td>\n",
       "      <td>8.955114</td>\n",
       "      <td>BishopRock</td>\n",
       "      <td>2021-06-30 00:00:00</td>\n",
       "      <td>04:05:02</td>\n",
       "      <td>2023-06-30 00:00:00</td>\n",
       "      <td>4.083889</td>\n",
       "    </tr>\n",
       "    <tr>\n",
       "      <th>3</th>\n",
       "      <td>ML1 Status</td>\n",
       "      <td>2021-06-30 21:03:05</td>\n",
       "      <td>-2.452919</td>\n",
       "      <td>1</td>\n",
       "      <td>49.868</td>\n",
       "      <td>-6.435</td>\n",
       "      <td>15.907148</td>\n",
       "      <td>14.062195</td>\n",
       "      <td>101988.51160</td>\n",
       "      <td>0.000000e+00</td>\n",
       "      <td>0.000000</td>\n",
       "      <td>0.000000</td>\n",
       "      <td>0.000000</td>\n",
       "      <td>BishopRock</td>\n",
       "      <td>2021-06-30 00:00:00</td>\n",
       "      <td>21:03:05</td>\n",
       "      <td>2023-06-30 00:00:00</td>\n",
       "      <td>21.051389</td>\n",
       "    </tr>\n",
       "    <tr>\n",
       "      <th>4</th>\n",
       "      <td>ML1 Status</td>\n",
       "      <td>2021-06-30 04:14:05</td>\n",
       "      <td>0.698762</td>\n",
       "      <td>0</td>\n",
       "      <td>51.200</td>\n",
       "      <td>-4.202</td>\n",
       "      <td>13.560559</td>\n",
       "      <td>13.101573</td>\n",
       "      <td>101295.95810</td>\n",
       "      <td>9.797729e-08</td>\n",
       "      <td>33.311705</td>\n",
       "      <td>24.922714</td>\n",
       "      <td>42.892696</td>\n",
       "      <td>BullPointPost</td>\n",
       "      <td>2021-06-30 00:00:00</td>\n",
       "      <td>04:14:05</td>\n",
       "      <td>2023-06-30 00:00:00</td>\n",
       "      <td>4.234722</td>\n",
       "    </tr>\n",
       "    <tr>\n",
       "      <th>...</th>\n",
       "      <td>...</td>\n",
       "      <td>...</td>\n",
       "      <td>...</td>\n",
       "      <td>...</td>\n",
       "      <td>...</td>\n",
       "      <td>...</td>\n",
       "      <td>...</td>\n",
       "      <td>...</td>\n",
       "      <td>...</td>\n",
       "      <td>...</td>\n",
       "      <td>...</td>\n",
       "      <td>...</td>\n",
       "      <td>...</td>\n",
       "      <td>...</td>\n",
       "      <td>...</td>\n",
       "      <td>...</td>\n",
       "      <td>...</td>\n",
       "      <td>...</td>\n",
       "    </tr>\n",
       "    <tr>\n",
       "      <th>54301</th>\n",
       "      <td>ML1 Status</td>\n",
       "      <td>2016-01-03 16:20:07</td>\n",
       "      <td>-0.076861</td>\n",
       "      <td>1</td>\n",
       "      <td>51.200</td>\n",
       "      <td>-4.202</td>\n",
       "      <td>9.776766</td>\n",
       "      <td>6.886808</td>\n",
       "      <td>97809.60002</td>\n",
       "      <td>5.113424e-04</td>\n",
       "      <td>0.290351</td>\n",
       "      <td>0.290351</td>\n",
       "      <td>0.000000</td>\n",
       "      <td>BullPointPre</td>\n",
       "      <td>2016-01-03 00:00:00</td>\n",
       "      <td>16:20:07</td>\n",
       "      <td>2018-01-03 00:00:00</td>\n",
       "      <td>16.335278</td>\n",
       "    </tr>\n",
       "    <tr>\n",
       "      <th>54302</th>\n",
       "      <td>ML1 Status</td>\n",
       "      <td>2016-01-02 08:45:13</td>\n",
       "      <td>2.372444</td>\n",
       "      <td>0</td>\n",
       "      <td>51.200</td>\n",
       "      <td>-4.202</td>\n",
       "      <td>10.515775</td>\n",
       "      <td>9.588061</td>\n",
       "      <td>98698.45236</td>\n",
       "      <td>1.221071e-04</td>\n",
       "      <td>48.518186</td>\n",
       "      <td>48.518186</td>\n",
       "      <td>0.000000</td>\n",
       "      <td>BullPointPre</td>\n",
       "      <td>2016-01-02 00:00:00</td>\n",
       "      <td>08:45:13</td>\n",
       "      <td>2018-01-02 00:00:00</td>\n",
       "      <td>8.753611</td>\n",
       "    </tr>\n",
       "    <tr>\n",
       "      <th>54303</th>\n",
       "      <td>ML1 Status</td>\n",
       "      <td>2016-01-02 15:43:26</td>\n",
       "      <td>3.755937</td>\n",
       "      <td>1</td>\n",
       "      <td>51.200</td>\n",
       "      <td>-4.202</td>\n",
       "      <td>9.691194</td>\n",
       "      <td>8.532271</td>\n",
       "      <td>99582.84903</td>\n",
       "      <td>3.307044e-04</td>\n",
       "      <td>0.098296</td>\n",
       "      <td>0.098296</td>\n",
       "      <td>0.000000</td>\n",
       "      <td>BullPointPre</td>\n",
       "      <td>2016-01-02 00:00:00</td>\n",
       "      <td>15:43:26</td>\n",
       "      <td>2018-01-02 00:00:00</td>\n",
       "      <td>15.723889</td>\n",
       "    </tr>\n",
       "    <tr>\n",
       "      <th>54304</th>\n",
       "      <td>ML1 Status</td>\n",
       "      <td>2016-01-01 09:11:30</td>\n",
       "      <td>5.166971</td>\n",
       "      <td>0</td>\n",
       "      <td>51.200</td>\n",
       "      <td>-4.202</td>\n",
       "      <td>7.969061</td>\n",
       "      <td>4.444422</td>\n",
       "      <td>101017.98590</td>\n",
       "      <td>5.429240e-05</td>\n",
       "      <td>53.031738</td>\n",
       "      <td>53.031738</td>\n",
       "      <td>0.000000</td>\n",
       "      <td>BullPointPre</td>\n",
       "      <td>2016-01-01 00:00:00</td>\n",
       "      <td>09:11:30</td>\n",
       "      <td>2018-01-01 00:00:00</td>\n",
       "      <td>9.191667</td>\n",
       "    </tr>\n",
       "    <tr>\n",
       "      <th>54305</th>\n",
       "      <td>ML1 Status</td>\n",
       "      <td>2016-01-01 16:02:47</td>\n",
       "      <td>1.531183</td>\n",
       "      <td>1</td>\n",
       "      <td>51.200</td>\n",
       "      <td>-4.202</td>\n",
       "      <td>9.957503</td>\n",
       "      <td>7.689353</td>\n",
       "      <td>99866.76815</td>\n",
       "      <td>2.042598e-04</td>\n",
       "      <td>0.301627</td>\n",
       "      <td>0.301627</td>\n",
       "      <td>0.000000</td>\n",
       "      <td>BullPointPre</td>\n",
       "      <td>2016-01-01 00:00:00</td>\n",
       "      <td>16:02:47</td>\n",
       "      <td>2018-01-01 00:00:00</td>\n",
       "      <td>16.046389</td>\n",
       "    </tr>\n",
       "  </tbody>\n",
       "</table>\n",
       "<p>54306 rows × 18 columns</p>\n",
       "</div>"
      ],
      "text/plain": [
       "          TAGNAME                 TIME  SUNANGLE  VALUE  Latitude  Longitude   \n",
       "0      Main Optic  2021-06-30 02:59:21  1.235129      0    60.741     -0.795  \\\n",
       "1      Main Optic  2021-06-30 22:02:12 -1.404698      1    60.741     -0.795   \n",
       "2      ML1 Status  2021-06-30 04:05:02 -1.652963      0    49.868     -6.435   \n",
       "3      ML1 Status  2021-06-30 21:03:05 -2.452919      1    49.868     -6.435   \n",
       "4      ML1 Status  2021-06-30 04:14:05  0.698762      0    51.200     -4.202   \n",
       "...           ...                  ...       ...    ...       ...        ...   \n",
       "54301  ML1 Status  2016-01-03 16:20:07 -0.076861      1    51.200     -4.202   \n",
       "54302  ML1 Status  2016-01-02 08:45:13  2.372444      0    51.200     -4.202   \n",
       "54303  ML1 Status  2016-01-02 15:43:26  3.755937      1    51.200     -4.202   \n",
       "54304  ML1 Status  2016-01-01 09:11:30  5.166971      0    51.200     -4.202   \n",
       "54305  ML1 Status  2016-01-01 16:02:47  1.531183      1    51.200     -4.202   \n",
       "\n",
       "         Temp 2m  Dewpoint 2m      Pressure  Precipitation        GHI   \n",
       "0      10.739375     7.730220  101943.76110   1.241418e-08  51.624280  \\\n",
       "1      11.618693     9.279538  101979.90700   0.000000e+00   0.000000   \n",
       "2      14.996952    12.833996  101844.88250   0.000000e+00  11.123197   \n",
       "3      15.907148    14.062195  101988.51160   0.000000e+00   0.000000   \n",
       "4      13.560559    13.101573  101295.95810   9.797729e-08  33.311705   \n",
       "...          ...          ...           ...            ...        ...   \n",
       "54301   9.776766     6.886808   97809.60002   5.113424e-04   0.290351   \n",
       "54302  10.515775     9.588061   98698.45236   1.221071e-04  48.518186   \n",
       "54303   9.691194     8.532271   99582.84903   3.307044e-04   0.098296   \n",
       "54304   7.969061     4.444422  101017.98590   5.429240e-05  53.031738   \n",
       "54305   9.957503     7.689353   99866.76815   2.042598e-04   0.301627   \n",
       "\n",
       "             DHI        BNI       Location                 Date      Time   \n",
       "0      51.624280   0.000000    Balta_Sound  2021-06-30 00:00:00  02:59:21  \\\n",
       "1       0.000000   0.000000    Balta_Sound  2021-06-30 00:00:00  22:02:12   \n",
       "2       9.471215   8.955114     BishopRock  2021-06-30 00:00:00  04:05:02   \n",
       "3       0.000000   0.000000     BishopRock  2021-06-30 00:00:00  21:03:05   \n",
       "4      24.922714  42.892696  BullPointPost  2021-06-30 00:00:00  04:14:05   \n",
       "...          ...        ...            ...                  ...       ...   \n",
       "54301   0.290351   0.000000   BullPointPre  2016-01-03 00:00:00  16:20:07   \n",
       "54302  48.518186   0.000000   BullPointPre  2016-01-02 00:00:00  08:45:13   \n",
       "54303   0.098296   0.000000   BullPointPre  2016-01-02 00:00:00  15:43:26   \n",
       "54304  53.031738   0.000000   BullPointPre  2016-01-01 00:00:00  09:11:30   \n",
       "54305   0.301627   0.000000   BullPointPre  2016-01-01 00:00:00  16:02:47   \n",
       "\n",
       "                    Date.1      hours  \n",
       "0      2023-06-30 00:00:00   2.989167  \n",
       "1      2023-06-30 00:00:00  22.036667  \n",
       "2      2023-06-30 00:00:00   4.083889  \n",
       "3      2023-06-30 00:00:00  21.051389  \n",
       "4      2023-06-30 00:00:00   4.234722  \n",
       "...                    ...        ...  \n",
       "54301  2018-01-03 00:00:00  16.335278  \n",
       "54302  2018-01-02 00:00:00   8.753611  \n",
       "54303  2018-01-02 00:00:00  15.723889  \n",
       "54304  2018-01-01 00:00:00   9.191667  \n",
       "54305  2018-01-01 00:00:00  16.046389  \n",
       "\n",
       "[54306 rows x 18 columns]"
      ]
     },
     "execution_count": 2,
     "metadata": {},
     "output_type": "execute_result"
    }
   ],
   "source": [
    "df"
   ]
  },
  {
   "cell_type": "code",
   "execution_count": 6,
   "id": "155ec33d-ea2a-42e3-bcaa-8681a7a4919c",
   "metadata": {
    "tags": []
   },
   "outputs": [
    {
     "name": "stdout",
     "output_type": "stream",
     "text": [
      "Looking in indexes: https://pypi.org/simple, https://pip.repos.neuron.amazonaws.com\n",
      "Collecting scikit-learn\n",
      "  Downloading scikit_learn-1.3.0-cp310-cp310-manylinux_2_17_x86_64.manylinux2014_x86_64.whl (10.8 MB)\n",
      "\u001b[2K     \u001b[90m━━━━━━━━━━━━━━━━━━━━━━━━━━━━━━━━━━━━━━━━\u001b[0m \u001b[32m10.8/10.8 MB\u001b[0m \u001b[31m33.7 MB/s\u001b[0m eta \u001b[36m0:00:00\u001b[0m00:01\u001b[0m0:01\u001b[0m\n",
      "\u001b[?25hRequirement already satisfied: numpy>=1.17.3 in /home/ec2-user/anaconda3/envs/Braket/lib/python3.10/site-packages (from scikit-learn) (1.23.5)\n",
      "Requirement already satisfied: scipy>=1.5.0 in /home/ec2-user/anaconda3/envs/Braket/lib/python3.10/site-packages (from scikit-learn) (1.9.3)\n",
      "Collecting joblib>=1.1.1 (from scikit-learn)\n",
      "  Downloading joblib-1.3.1-py3-none-any.whl (301 kB)\n",
      "\u001b[2K     \u001b[90m━━━━━━━━━━━━━━━━━━━━━━━━━━━━━━━━━━━━━━\u001b[0m \u001b[32m302.0/302.0 kB\u001b[0m \u001b[31m43.9 MB/s\u001b[0m eta \u001b[36m0:00:00\u001b[0m\n",
      "\u001b[?25hCollecting threadpoolctl>=2.0.0 (from scikit-learn)\n",
      "  Downloading threadpoolctl-3.1.0-py3-none-any.whl (14 kB)\n",
      "Installing collected packages: threadpoolctl, joblib, scikit-learn\n",
      "Successfully installed joblib-1.3.1 scikit-learn-1.3.0 threadpoolctl-3.1.0\n"
     ]
    }
   ],
   "source": [
    "!pip install scikit-learn"
   ]
  },
  {
   "cell_type": "code",
   "execution_count": 12,
   "id": "c083043f-a976-4512-8fce-2144c85e152f",
   "metadata": {
    "tags": []
   },
   "outputs": [],
   "source": [
    "import numpy as np\n",
    "import pandas as pd\n",
    "from qiskit import QuantumCircuit, transpile, assemble\n",
    "from qiskit.opflow import Z, I, StateFn\n",
    "from qiskit.utils import QuantumInstance\n",
    "from qiskit.algorithms.optimizers import COBYLA\n",
    "from qiskit.circuit.library import ZZFeatureMap, ZFeatureMap\n",
    "from sklearn.model_selection import train_test_split\n",
    "from sklearn.preprocessing import StandardScaler\n",
    "from sklearn.svm import SVC"
   ]
  },
  {
   "cell_type": "code",
   "execution_count": 13,
   "id": "f3047802-d69a-427e-8a0d-f1399da14cc0",
   "metadata": {
    "tags": []
   },
   "outputs": [],
   "source": [
    "# Define the features\n",
    "features = ['SUNANGLE', 'Temp 2m', 'GHI', 'DHI', 'hours']\n",
    "\n",
    "# Extract the features and labels\n",
    "X = df[features].values\n",
    "y = df['VALUE'].values\n",
    "\n",
    "# Split the dataset into training and test sets\n",
    "X_train, X_test, y_train, y_test = train_test_split(X, y, test_size=0.2, random_state=42)"
   ]
  },
  {
   "cell_type": "code",
   "execution_count": 14,
   "id": "79a17a8d-18af-49ca-bd52-612c884432a9",
   "metadata": {
    "tags": []
   },
   "outputs": [],
   "source": [
    "# Perform feature scaling\n",
    "scaler = StandardScaler()\n",
    "X_train_scaled = scaler.fit_transform(X_train)\n",
    "X_test_scaled = scaler.transform(X_test)"
   ]
  },
  {
   "cell_type": "code",
   "execution_count": 16,
   "id": "1a63566f-27c1-4c50-b094-8845b801c19a",
   "metadata": {
    "tags": []
   },
   "outputs": [],
   "source": [
    "# Define the quantum feature map\n",
    "num_qubits = len(features)\n",
    "depth = 3\n",
    "entanglement = 'full'\n",
    "feature_map = ZZFeatureMap(num_qubits, reps=depth, entanglement=entanglement)"
   ]
  },
  {
   "cell_type": "code",
   "execution_count": 18,
   "id": "23ace8a3-d78b-40b9-8fcc-48ebbb87778e",
   "metadata": {
    "tags": []
   },
   "outputs": [
    {
     "data": {
      "text/html": [
       "<style>#sk-container-id-1 {color: black;}#sk-container-id-1 pre{padding: 0;}#sk-container-id-1 div.sk-toggleable {background-color: white;}#sk-container-id-1 label.sk-toggleable__label {cursor: pointer;display: block;width: 100%;margin-bottom: 0;padding: 0.3em;box-sizing: border-box;text-align: center;}#sk-container-id-1 label.sk-toggleable__label-arrow:before {content: \"▸\";float: left;margin-right: 0.25em;color: #696969;}#sk-container-id-1 label.sk-toggleable__label-arrow:hover:before {color: black;}#sk-container-id-1 div.sk-estimator:hover label.sk-toggleable__label-arrow:before {color: black;}#sk-container-id-1 div.sk-toggleable__content {max-height: 0;max-width: 0;overflow: hidden;text-align: left;background-color: #f0f8ff;}#sk-container-id-1 div.sk-toggleable__content pre {margin: 0.2em;color: black;border-radius: 0.25em;background-color: #f0f8ff;}#sk-container-id-1 input.sk-toggleable__control:checked~div.sk-toggleable__content {max-height: 200px;max-width: 100%;overflow: auto;}#sk-container-id-1 input.sk-toggleable__control:checked~label.sk-toggleable__label-arrow:before {content: \"▾\";}#sk-container-id-1 div.sk-estimator input.sk-toggleable__control:checked~label.sk-toggleable__label {background-color: #d4ebff;}#sk-container-id-1 div.sk-label input.sk-toggleable__control:checked~label.sk-toggleable__label {background-color: #d4ebff;}#sk-container-id-1 input.sk-hidden--visually {border: 0;clip: rect(1px 1px 1px 1px);clip: rect(1px, 1px, 1px, 1px);height: 1px;margin: -1px;overflow: hidden;padding: 0;position: absolute;width: 1px;}#sk-container-id-1 div.sk-estimator {font-family: monospace;background-color: #f0f8ff;border: 1px dotted black;border-radius: 0.25em;box-sizing: border-box;margin-bottom: 0.5em;}#sk-container-id-1 div.sk-estimator:hover {background-color: #d4ebff;}#sk-container-id-1 div.sk-parallel-item::after {content: \"\";width: 100%;border-bottom: 1px solid gray;flex-grow: 1;}#sk-container-id-1 div.sk-label:hover label.sk-toggleable__label {background-color: #d4ebff;}#sk-container-id-1 div.sk-serial::before {content: \"\";position: absolute;border-left: 1px solid gray;box-sizing: border-box;top: 0;bottom: 0;left: 50%;z-index: 0;}#sk-container-id-1 div.sk-serial {display: flex;flex-direction: column;align-items: center;background-color: white;padding-right: 0.2em;padding-left: 0.2em;position: relative;}#sk-container-id-1 div.sk-item {position: relative;z-index: 1;}#sk-container-id-1 div.sk-parallel {display: flex;align-items: stretch;justify-content: center;background-color: white;position: relative;}#sk-container-id-1 div.sk-item::before, #sk-container-id-1 div.sk-parallel-item::before {content: \"\";position: absolute;border-left: 1px solid gray;box-sizing: border-box;top: 0;bottom: 0;left: 50%;z-index: -1;}#sk-container-id-1 div.sk-parallel-item {display: flex;flex-direction: column;z-index: 1;position: relative;background-color: white;}#sk-container-id-1 div.sk-parallel-item:first-child::after {align-self: flex-end;width: 50%;}#sk-container-id-1 div.sk-parallel-item:last-child::after {align-self: flex-start;width: 50%;}#sk-container-id-1 div.sk-parallel-item:only-child::after {width: 0;}#sk-container-id-1 div.sk-dashed-wrapped {border: 1px dashed gray;margin: 0 0.4em 0.5em 0.4em;box-sizing: border-box;padding-bottom: 0.4em;background-color: white;}#sk-container-id-1 div.sk-label label {font-family: monospace;font-weight: bold;display: inline-block;line-height: 1.2em;}#sk-container-id-1 div.sk-label-container {text-align: center;}#sk-container-id-1 div.sk-container {/* jupyter's `normalize.less` sets `[hidden] { display: none; }` but bootstrap.min.css set `[hidden] { display: none !important; }` so we also need the `!important` here to be able to override the default hidden behavior on the sphinx rendered scikit-learn.org. See: https://github.com/scikit-learn/scikit-learn/issues/21755 */display: inline-block !important;position: relative;}#sk-container-id-1 div.sk-text-repr-fallback {display: none;}</style><div id=\"sk-container-id-1\" class=\"sk-top-container\"><div class=\"sk-text-repr-fallback\"><pre>SVC()</pre><b>In a Jupyter environment, please rerun this cell to show the HTML representation or trust the notebook. <br />On GitHub, the HTML representation is unable to render, please try loading this page with nbviewer.org.</b></div><div class=\"sk-container\" hidden><div class=\"sk-item\"><div class=\"sk-estimator sk-toggleable\"><input class=\"sk-toggleable__control sk-hidden--visually\" id=\"sk-estimator-id-1\" type=\"checkbox\" checked><label for=\"sk-estimator-id-1\" class=\"sk-toggleable__label sk-toggleable__label-arrow\">SVC</label><div class=\"sk-toggleable__content\"><pre>SVC()</pre></div></div></div></div></div>"
      ],
      "text/plain": [
       "SVC()"
      ]
     },
     "execution_count": 18,
     "metadata": {},
     "output_type": "execute_result"
    }
   ],
   "source": [
    "backend = Aer.get_backend('qasm_simulator')\n",
    "\n",
    "# Define the quantum instance\n",
    "quantum_instance = QuantumInstance(backend)\n",
    "\n",
    "# Define the QSVM algorithm\n",
    "qsvm = SVC()\n",
    "\n",
    "# Train the QSVM algorithm\n",
    "qsvm.fit(X_train_scaled, y_train)"
   ]
  },
  {
   "cell_type": "code",
   "execution_count": 19,
   "id": "e0bc0725-b1cf-4e1d-80a9-a394e073420f",
   "metadata": {
    "tags": []
   },
   "outputs": [
    {
     "data": {
      "text/plain": [
       "array([[-0.39557958, -0.72594636, -0.53621992, -0.60659715,  0.89729077],\n",
       "       [-0.15152538, -0.26779881, -0.48167974, -0.52477392,  0.81304232],\n",
       "       [-1.20781071, -1.15458254, -0.53621992, -0.60659715,  1.14260914],\n",
       "       ...,\n",
       "       [-0.37686368,  1.38452053, -0.29664289, -0.29231076, -1.35910056],\n",
       "       [ 1.48107939,  0.89332531,  1.59540858,  2.59135212, -0.94273369],\n",
       "       [-0.36651399, -0.47304681, -0.53621992, -0.60659715,  1.0509337 ]])"
      ]
     },
     "execution_count": 19,
     "metadata": {},
     "output_type": "execute_result"
    }
   ],
   "source": [
    "X_train_scaled"
   ]
  },
  {
   "cell_type": "code",
   "execution_count": 20,
   "id": "5cace1d6-af63-4297-b78b-9d8c394c37a5",
   "metadata": {
    "tags": []
   },
   "outputs": [],
   "source": [
    "y_pred_train = qsvm.predict(X_train_scaled)\n",
    "y_pred_test = qsvm.predict(X_test_scaled)"
   ]
  },
  {
   "cell_type": "code",
   "execution_count": 22,
   "id": "17066cc6-445e-4c42-b5e0-9e03c22bee1c",
   "metadata": {
    "tags": []
   },
   "outputs": [
    {
     "data": {
      "text/plain": [
       "array([1, 1, 1, ..., 0, 0, 1])"
      ]
     },
     "execution_count": 22,
     "metadata": {},
     "output_type": "execute_result"
    }
   ],
   "source": [
    "y_pred_train"
   ]
  },
  {
   "cell_type": "code",
   "execution_count": 23,
   "id": "baadc36f-f854-4c3a-b7d6-a42b19bc2bbf",
   "metadata": {
    "tags": []
   },
   "outputs": [
    {
     "name": "stdout",
     "output_type": "stream",
     "text": [
      "Training Accuracy: 0.9269404290580978\n",
      "Test Accuracy: 0.919075676670963\n"
     ]
    }
   ],
   "source": [
    "# Evaluate the accuracy\n",
    "accuracy_train = np.mean(y_pred_train == y_train)\n",
    "accuracy_test = np.mean(y_pred_test == y_test)\n",
    "\n",
    "# Print the accuracies\n",
    "print(\"Training Accuracy:\", accuracy_train)\n",
    "print(\"Test Accuracy:\", accuracy_test)"
   ]
  }
 ],
 "metadata": {
  "kernelspec": {
   "display_name": "conda_braket",
   "language": "python",
   "name": "conda_braket"
  },
  "language_info": {
   "codemirror_mode": {
    "name": "ipython",
    "version": 3
   },
   "file_extension": ".py",
   "mimetype": "text/x-python",
   "name": "python",
   "nbconvert_exporter": "python",
   "pygments_lexer": "ipython3",
   "version": "3.10.12"
  }
 },
 "nbformat": 4,
 "nbformat_minor": 5
}
